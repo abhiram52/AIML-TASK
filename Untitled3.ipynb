{
 "cells": [
  {
   "cell_type": "code",
   "execution_count": null,
   "id": "ec6acf43-6f07-4b07-99da-bfd8a259a51f",
   "metadata": {},
   "outputs": [],
   "source": [
    "orders = [['apple',10],['banana',5],['orange',10]]"
   ]
  },
  {
   "cell_type": "code",
   "execution_count": null,
   "id": "d937a0c3-8b01-447d-9d6b-137b9ddd8c3b",
   "metadata": {},
   "outputs": [],
   "source": [
    "for each in orders:\n",
    "    if each[0] == \"orange\":\n",
    "        each[1] = 10"
   ]
  },
  {
   "cell_type": "code",
   "execution_count": 12,
   "id": "3094db09-c2b5-429f-8e85-8cca30c79f89",
   "metadata": {},
   "outputs": [
    {
     "name": "stdout",
     "output_type": "stream",
     "text": [
      "[['apple', 10], ['banana', 5], ['orange', 10]]\n"
     ]
    }
   ],
   "source": [
    "print(orders)"
   ]
  },
  {
   "cell_type": "code",
   "execution_count": 17,
   "id": "70bac829-dad1-4bbd-82fb-6c05f8ee4fa0",
   "metadata": {},
   "outputs": [
    {
     "name": "stdout",
     "output_type": "stream",
     "text": [
      "[10]\n",
      "10\n"
     ]
    }
   ],
   "source": [
    "apple_orders = []  \n",
    "for each in orders:\n",
    "    if each[0] == 'apple': \n",
    "        apple_orders.append(each[1])  \n",
    "print(apple_orders)\n",
    "print(sum(apple_orders))  \n"
   ]
  },
  {
   "cell_type": "code",
   "execution_count": 24,
   "id": "c012c14a-9563-49f0-8307-346b58fed04d",
   "metadata": {},
   "outputs": [],
   "source": [
    "tup1 = (3,5,9,10)      "
   ]
  },
  {
   "cell_type": "code",
   "execution_count": 25,
   "id": "fc26caf5-11e3-44bd-a290-de1d57ef4127",
   "metadata": {},
   "outputs": [],
   "source": [
    "tup2 = 10,20,30,'Hi'"
   ]
  },
  {
   "cell_type": "code",
   "execution_count": 26,
   "id": "e994a221-789c-4490-9025-78932d3c6044",
   "metadata": {},
   "outputs": [],
   "source": [
    "tup3 = ([1,2,3,4])"
   ]
  },
  {
   "cell_type": "code",
   "execution_count": 27,
   "id": "71f8ffac-634e-46f9-b6c5-e0ce200aff27",
   "metadata": {},
   "outputs": [
    {
     "name": "stdout",
     "output_type": "stream",
     "text": [
      "(3, 5, 9, 10)\n"
     ]
    }
   ],
   "source": [
    "print(tup1)"
   ]
  },
  {
   "cell_type": "code",
   "execution_count": 28,
   "id": "f4b2915c-297b-46e4-8e9f-292f6e53787b",
   "metadata": {},
   "outputs": [
    {
     "name": "stdout",
     "output_type": "stream",
     "text": [
      "(10, 20, 30, 'Hi')\n"
     ]
    }
   ],
   "source": [
    "print(tup2)"
   ]
  },
  {
   "cell_type": "code",
   "execution_count": 29,
   "id": "216634e4-7a62-4167-8c89-a0ff81a4d047",
   "metadata": {},
   "outputs": [
    {
     "name": "stdout",
     "output_type": "stream",
     "text": [
      "[1, 2, 3, 4]\n"
     ]
    }
   ],
   "source": [
    "print(tup3)"
   ]
  },
  {
   "cell_type": "code",
   "execution_count": null,
   "id": "9c7d11e3-0e51-412f-950b-353f9d624a0d",
   "metadata": {},
   "outputs": [],
   "source": [
    "tup4 = ([1,2,3],(4,5,6), 'Hello'"
   ]
  }
 ],
 "metadata": {
  "kernelspec": {
   "display_name": "Python 3 (ipykernel)",
   "language": "python",
   "name": "python3"
  },
  "language_info": {
   "codemirror_mode": {
    "name": "ipython",
    "version": 3
   },
   "file_extension": ".py",
   "mimetype": "text/x-python",
   "name": "python",
   "nbconvert_exporter": "python",
   "pygments_lexer": "ipython3",
   "version": "3.12.7"
  }
 },
 "nbformat": 4,
 "nbformat_minor": 5
}
