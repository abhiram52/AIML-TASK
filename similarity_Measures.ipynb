{
 "cells": [
  {
   "cell_type": "code",
   "execution_count": 1,
   "id": "cb884c3f-b490-4e95-b05b-05be2aabbf76",
   "metadata": {},
   "outputs": [],
   "source": [
    "import numpy as np\n",
    "from scipy.spatial.distance import cosine, euclidean\n",
    "from scipy.stats import pearsonr"
   ]
  },
  {
   "cell_type": "code",
   "execution_count": 2,
   "id": "657c389f-957b-4636-89de-a9f18d53d464",
   "metadata": {},
   "outputs": [],
   "source": [
    "user1 = np.array([4,5,2,3,4])\n",
    "user2 = np.array([5,3,2,4,5])"
   ]
  },
  {
   "cell_type": "code",
   "execution_count": 3,
   "id": "657e2951-8045-4bac-95ea-a3656c45f134",
   "metadata": {},
   "outputs": [
    {
     "name": "stdout",
     "output_type": "stream",
     "text": [
      "Cosine Similarity: 0.9548\n"
     ]
    }
   ],
   "source": [
    "cosine_similarity = 1 - cosine(user1, user2)\n",
    "print(f\"Cosine Similarity: {cosine_similarity:.4f}\")"
   ]
  },
  {
   "cell_type": "code",
   "execution_count": 6,
   "id": "bfd532a5-4e23-42e8-8086-f5d1b015df71",
   "metadata": {},
   "outputs": [
    {
     "name": "stdout",
     "output_type": "stream",
     "text": [
      "Pearson Correlation Similarity: 0.4372\n"
     ]
    }
   ],
   "source": [
    "pearson_corr, _=pearsonr(user1, user2)\n",
    "print(f\"Pearson Correlation Similarity: {pearson_corr:.4f}\")\n"
   ]
  },
  {
   "cell_type": "code",
   "execution_count": 7,
   "id": "1441e712-4abf-4575-a659-fab5e256aa8c",
   "metadata": {},
   "outputs": [
    {
     "name": "stdout",
     "output_type": "stream",
     "text": [
      "Euclidean Distance Similarity: 0.2743\n"
     ]
    }
   ],
   "source": [
    "euclidean_distance = euclidean(user1, user2)\n",
    "euclidean_similarity = 1/(1+euclidean_distance)\n",
    "print(f\"Euclidean Distance Similarity: {euclidean_similarity:.4f}\")"
   ]
  },
  {
   "cell_type": "code",
   "execution_count": 19,
   "id": "7a7ac967-9629-47cd-a48b-c7d0231f50de",
   "metadata": {},
   "outputs": [
    {
     "name": "stdout",
     "output_type": "stream",
     "text": [
      "         Bahubali  Mufasa  Interstellar  RRR  Mrs\n",
      "Raju            5       3             4    4    2\n",
      "John            3       1             2    3    3\n",
      "Ramya           4       3             4    5    1\n",
      "Kishore         2       2             1    2    4\n"
     ]
    }
   ],
   "source": [
    "import numpy as np\n",
    "import pandas as pd\n",
    "from scipy.spatial.distance import cosine, euclidean\n",
    "from scipy.stats import pearsonr\n",
    "\n",
    "#User-item rating matrix for 4 users\n",
    "ratings = np.array([\n",
    "    [5, 3, 4, 4, 2],  # User A\n",
    "    [3, 1, 2, 3, 3],  # User B\n",
    "    [4, 3, 4, 5, 1],  # User C\n",
    "    [2, 2, 1, 2, 4]   # User D\n",
    "])\n",
    "\n",
    "users = [\"Raju\", \"John\", \"Ramya\", \"Kishore\"]\n",
    "df = pd.DataFrame(ratings, index=users, columns=[\"Bahubali\",\"Mufasa\",\"Interstellar\",\"RRR\",\"Mrs\"])\n",
    "print(df)"
   ]
  },
  {
   "cell_type": "code",
   "execution_count": null,
   "id": "ec98a549-15ee-4fa5-aa72-4f7c90ad3101",
   "metadata": {},
   "outputs": [],
   "source": []
  }
 ],
 "metadata": {
  "kernelspec": {
   "display_name": "Python 3 (ipykernel)",
   "language": "python",
   "name": "python3"
  },
  "language_info": {
   "codemirror_mode": {
    "name": "ipython",
    "version": 3
   },
   "file_extension": ".py",
   "mimetype": "text/x-python",
   "name": "python",
   "nbconvert_exporter": "python",
   "pygments_lexer": "ipython3",
   "version": "3.12.7"
  }
 },
 "nbformat": 4,
 "nbformat_minor": 5
}
